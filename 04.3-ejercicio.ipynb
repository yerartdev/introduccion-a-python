{
 "cells": [
  {
   "cell_type": "markdown",
   "metadata": {},
   "source": [
    "Convertir el ejemplo anterior a un paquete, con el siguiente formato (o similar).\n",
    "\n",
    "```\n",
    "lyrics_processor/__init__.py\n",
    "                 process.py\n",
    "                 frequencies.py\n",
    "                 songs/__init__.py\n",
    "                 songs/example.py\n",
    "```"
   ]
  },
  {
   "cell_type": "code",
   "execution_count": null,
   "metadata": {},
   "outputs": [],
   "source": [
    "import lyrics_processor.frequencies\n",
    "import lyrics_processor.process\n",
    "from lyrics_processor import songs\n",
    "\n",
    "words = lyrics_procesor.process.split_into_words(songs.example.despacito)\n",
    "freqs = lyrics_procesor.frequencies.words_to_frequencies(words)\n",
    "print(lyrics_procesor.frequencies.get_more_often_user_words(freqs))"
   ]
  }
 ],
 "metadata": {
  "kernelspec": {
   "display_name": "Python 3",
   "language": "python",
   "name": "python3"
  },
  "language_info": {
   "codemirror_mode": {
    "name": "ipython",
    "version": 3
   },
   "file_extension": ".py",
   "mimetype": "text/x-python",
   "name": "python",
   "nbconvert_exporter": "python",
   "pygments_lexer": "ipython3",
   "version": "3.6.5"
  }
 },
 "nbformat": 4,
 "nbformat_minor": 2
}
